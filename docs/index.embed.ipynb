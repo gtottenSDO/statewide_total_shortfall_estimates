{
 "cells": [
  {
   "cell_type": "markdown",
   "metadata": {},
   "source": [
    "# Estimating Colorado’s Housing Shortfall\n",
    "\n",
    "Greg Totten (Colorado State Demography Office)"
   ],
<<<<<<< HEAD
   "id": "35d964d8-3b69-4131-a15b-fe4364279346"
=======
   "id": "8776dd7e-c579-4ad1-8c97-89d7fd4ba09d"
>>>>>>> b6343ad (add nhlic)
  },
  {
   "cell_type": "code",
   "execution_count": null,
   "metadata": {},
   "outputs": [
    {
     "output_type": "stream",
     "name": "stderr",
     "text": [
      "Warning: Your system is mis-configured: '/etc/localtime' is not a symlink"
     ]
    },
    {
     "output_type": "stream",
     "name": "stderr",
     "text": [
      "Warning: It is strongly recommended to set envionment variable TZ to\n",
      "'America/Denver' (or equivalent)"
     ]
    },
    {
     "output_type": "stream",
     "name": "stderr",
     "text": [
      "── Attaching core tidyverse packages ──────────────────────── tidyverse 2.0.0 ──\n",
      "✔ dplyr     1.1.4     ✔ readr     2.1.5\n",
      "✔ forcats   1.0.0     ✔ stringr   1.5.1\n",
      "✔ ggplot2   3.5.1     ✔ tibble    3.2.1\n",
      "✔ lubridate 1.9.4     ✔ tidyr     1.3.1\n",
      "✔ purrr     1.0.4     \n",
      "── Conflicts ────────────────────────────────────────── tidyverse_conflicts() ──\n",
      "✖ dplyr::filter() masks stats::filter()\n",
      "✖ dplyr::lag()    masks stats::lag()\n",
      "ℹ Use the conflicted package (<http://conflicted.r-lib.org/>) to force all conflicts to become errors"
     ]
    },
    {
     "output_type": "stream",
     "name": "stderr",
     "text": [
      "The duckplyr package is configured to fall back to dplyr when it encounters an\n",
      "incompatibility. Fallback events can be collected and uploaded for analysis to\n",
      "guide future development. By default, data will be collected but no data will\n",
      "be uploaded.\n",
      "ℹ Automatic fallback uploading is not controlled and therefore disabled, see\n",
      "  `?duckplyr::fallback()`.\n",
<<<<<<< HEAD
      "✔ Number of reports ready for upload: 5.\n",
=======
      "✔ Number of reports ready for upload: 7.\n",
>>>>>>> b6343ad (add nhlic)
      "→ Review with `duckplyr::fallback_review()`, upload with\n",
      "  `duckplyr::fallback_upload()`.\n",
      "ℹ Configure automatic uploading with `duckplyr::fallback_config()`.\n",
      "✔ Overwriting dplyr methods with duckplyr methods.\n",
      "ℹ Turn off with `duckplyr::methods_restore()`."
     ]
    },
    {
     "output_type": "stream",
     "name": "stderr",
     "text": [
      "\n",
      "Attaching package: 'srvyr'\n",
      "\n",
      "The following object is masked from 'package:stats':\n",
      "\n",
      "    filter"
     ]
    },
    {
     "output_type": "stream",
     "name": "stderr",
     "text": [
      "\n",
      "Attaching package: 'scales'\n",
      "\n",
      "The following object is masked from 'package:purrr':\n",
      "\n",
      "    discard\n",
      "\n",
      "The following object is masked from 'package:readr':\n",
      "\n",
      "    col_factor"
     ]
    }
   ],
   "source": [
    "library(tidyverse)"
   ],
<<<<<<< HEAD
   "id": "8cef0e1f-efd9-418d-82f9-88fed0fbaeab"
=======
   "id": "eb392f42-fd73-4ddf-a333-2a0c899308ce"
>>>>>>> b6343ad (add nhlic)
  },
  {
   "cell_type": "markdown",
   "metadata": {},
   "source": [
    "## Defining The Shortfall\n",
    "\n",
    "In order to estimate the total housing shortfall in Colorado, we must first define the metrics by which we are going to assess the number of housing units the state might be short.\n",
    "\n",
    "How these metrics are defined can have a significant impact on the resulting analysis. As a highly stylized example to demonstrate this concept let’s begin by using two examples to bound our estimates:\n",
    "\n",
    "1.  Every person currently residing in the state does so inside of a permanent housing unit. In this scenario we would have a relatively low estimate of the total number of necessary housing units - as what would be required is enough units to house the state’s unhoused population. In this case the estimate of number housing units might just be the estimate of the number of people in this population. However, this could be reduced by changing our requirements of housing to include any shelter - such as tents as vehicles, which would likely bring the estimated much lower.\n",
    "2.  Every current US resident who would like to live in Colorado may do so, and they will be able to do so for free. Conversely, in this scenario we might expect an estimate that is quite high, as while some people still may opt not to reside in our beautiful state (perhaps they do not particularly like sun), we could reasonably expect many Americans, perhaps into the hundreds of millions, might opt to spend no money to live in our beautiful state.\n",
    "\n",
    "In between these two estimates are a range of scenarios that might be indicative of the number of housing units which are necessary - based on the objectives we are trying to determine, and the underlying assumptions about housing preferences which underlie them. In this paper we will examine a variety of methods, based primarily on studies by other researchers, that we can apply to Colorado to determine the estimated housing shortfall in the state, under that method. In this way we will provide not so much a point estimate of the total housing shortfall, but a range of estimates which can be utilized by planners and policy makers based on their discretion with respect to the reasonableness and applicability of each method. In doing so we also hope to plan a clear, concise, explanation of the method, what objective it is attempting to solve for, and the meaning of the estimate within that context.\n",
    "\n",
    "## Data\n",
    "\n",
    "Data primarily comes from the most recent American Community Survey (“ACS”) one year estimates for Colorado, and data from the Colorado State Demography Office (“SDO”). One year ACS estimates are primarily used as the population of the state is large enough to allow for the use of such estimates. If applying similar methodologies at smaller geography levels (such as county level), it may be necessary to instead use 5 year estimates. Additionally, some methods of deriving estimates, such as by analyzing Public Use Microdata Sample (“PUMS”) data may not be possible for all methods. As such many methods determined here may only be applicable at the state level.\n",
    "\n",
    "## Examples\n",
    "\n",
    "### Harvard Joint Center for Housing Studies Blog\n",
    "\n",
    "One resource that compares four relatively recent national studies attempting to determine housing shortfalls are a January 2024 blog entry from the Harvard Joint Center for Housing Studies (“JHCS”) \\[@mccue2024\\]. The four studies each utilize different methodologies and resulting estimates covering different years. The four studies are:\n",
    "\n",
    "1.  [National Association of Home Builders (NAHB) 2021](https://www.freddiemac.com/research/insight/20210507-housing-supply)\n",
    "2.  [Freddie Mac 2020](https://www.freddiemac.com/research/insight/20210507-housing-supply)\n",
    "3.  [National Association of Realtors (NAR) 2021](https://www.nar.realtor/advocacy/housing-is-critical-infrastructure)\n",
    "4.  [National Low Income Housing Coalition (NLIHC)](https://nlihc.org/gap)\n",
    "\n",
    "The following sections will provide estimates of the housing shortage in Colorado based on each of these study methodologies.\n",
    "\n",
    "### National Association of Home Builders\n",
    "\n",
    "The NAHB study estimates the national housing shortage by examining the difference in ACS vacancy rates in the current year from their long run average. This resulted in an estimated shortage of 1.5 million units.\n",
    "\n",
    "The first step is to create a time series of vacancy rates for the state with ACS data. This data is accessed from the IPUMS USA database \\[@ruggles2024a\\] using the `ipumsr` package in R \\[@ipumsr\\]."
   ],
<<<<<<< HEAD
   "id": "281fabb1-ef8f-4b03-bb1d-a53dd86b7b97"
=======
   "id": "87281acb-224f-4b6a-a345-6aa0d3dfe7d2"
>>>>>>> b6343ad (add nhlic)
  },
  {
   "cell_type": "code",
   "execution_count": null,
   "metadata": {},
   "outputs": [
    {
     "output_type": "stream",
     "name": "stderr",
     "text": [
      "Use of data from IPUMS USA is subject to conditions including that users should cite the data appropriately. Use command `ipums_conditions()` for more details."
     ]
    }
   ],
   "source": [
    "acs_samples <- get_sample_info(\"usa\") |>\n",
    "  filter(str_detect(name, pattern = \"20\\\\d+a$\")) |> \n",
    "  pull(name)\n",
    "\n",
    "ipums_dir <- \"data/ipums_raw/\"\n",
    "ipums_ddi <- \"usa_00081.xml\"\n",
    "file_loc <- paste0(\n",
    "  ipums_dir,\n",
    "  ipums_ddi\n",
    ")\n",
    "  if (file.exists(file_loc)) {\n",
    "    acs_ddi <- read_ipums_ddi(file_loc)\n",
    "    acs_00_23 <- acs_ddi |>\n",
    "      read_ipums_micro_list()\n",
    "  } else {\n",
    "acs_00_23 <- define_extract_micro(\n",
    "      collection = \"usa\",\n",
    "      description = \"ACS 1 year samples in Colorado of vacancy variables\",\n",
    "      samples = acs_samples,\n",
    "      variables = list(\n",
    "        var_spec(\"STATEFIP\", case_selections = \"08\"),\n",
    "        \"COUNTYFIP\",\n",
    "        \"PUMA\",\n",
    "        \"GQ\",\n",
    "        \"OWNERSHP\",\n",
    "        \"VACANCY\",\n",
    "        \"REPWT\",\n",
    "        \"AGE\",\n",
    "        \"REPWTP\"\n",
    "      ),\n",
    "      data_structure = \"hierarchical\",\n",
    "    ) |>\n",
    "      submit_extract() |>\n",
    "      wait_for_extract() |>\n",
    "      download_extract(download_dir = ipums_dir) |>\n",
    "      read_ipums_micro()\n",
    "  }"
   ],
<<<<<<< HEAD
   "id": "c30773b2-84f7-4d5b-8ce8-76c95e38c69c"
=======
   "id": "dbc1e4de-167f-432e-99fd-c95291e75429"
>>>>>>> b6343ad (add nhlic)
  },
  {
   "cell_type": "markdown",
   "metadata": {},
   "source": [
    "Vacancy rates are calculated based on both the `OWNERSHP` and `VACANCY` variables. Additionally the `GQ` variable is used to filter out group quarters.\n",
    "\n",
    "In order to calculate vacancy rates it is necessary to first understand what each of the values for each variable represents"
   ],
<<<<<<< HEAD
   "id": "d2df7746-37d1-45fc-ba86-2b477c8a433c"
=======
   "id": "5fb2993d-b2a5-41cb-acba-dcb94623bd73"
>>>>>>> b6343ad (add nhlic)
  },
  {
   "cell_type": "code",
   "execution_count": null,
   "metadata": {},
   "outputs": [],
   "source": [
    "# create acs_info from the DDI which includes variable information\n",
    "acs_info <- ipums_var_info(acs_ddi)\n",
    "\n",
    "# generate table with variable information\n",
    "# table will include columns {VAR}_val, and {VAR}_lbl with the value and\n",
    "# label for each variable. This is setup so tab_spanner_delim can be used to\n",
    "# separate out columns in a GT table\n",
    "acs_var_tbl <- acs_info |>\n",
    "  # only include necessary variables\n",
    "  filter(var_name %in% c('OWNERSHP', 'VACANCY', \"GQ\")) |>\n",
    "  # remove other columns\n",
    "  select(var_name, val_labels) |>\n",
    "  # unnest labels from nested columns\n",
    "  unnest(val_labels) |>\n",
    "  # group by var_name for generating row numbers to unpivot without lists\n",
    "  group_by(var_name) |>\n",
    "  # add row_numbers\n",
    "  mutate(row = row_number()) |>\n",
    "  ungroup() |> \n",
    "  # pivot wider to generate table\n",
    "  pivot_wider(\n",
    "    names_from = var_name,\n",
    "    values_from = c(val, lbl),\n",
    "    # specify order of variable then val/lbl column\n",
    "    names_glue = \"{var_name}_{.value}\",\n",
    "    # use slowest so variables are grouped together\n",
    "    names_vary = \"slowest\") |>\n",
    "  # remove row index as no longer necessary\n",
    "  select(-row) |> \n",
    "  # move GQ to end\n",
    "  relocate(starts_with(\"GQ\"), .after = last_col())\n",
    "\n",
    "# create GT table with information\n",
    "acs_var_tbl_gt <- acs_var_tbl |>\n",
    "  gt() |> \n",
    "  # create spanners based on the column separators defined above\n",
    " tab_spanner_delim(delim = \"_\") |>\n",
    "  # Replace NA values with empty strings\n",
    "  sub_missing(\n",
    "    missing_text = \"\"\n",
    "  )"
   ],
<<<<<<< HEAD
   "id": "3ac26ae7-162d-409c-ac56-f433d9048db5"
=======
   "id": "b84b24d5-d4e5-49b8-96b5-f078174a71f2"
>>>>>>> b6343ad (add nhlic)
  },
  {
   "cell_type": "code",
   "execution_count": null,
   "metadata": {},
   "outputs": [
    {
     "output_type": "display_data",
     "metadata": {},
     "data": {
      "text/html": [
       "\n",
       "</div>"
      ],
      "text/markdown": [
       "+-----------+-----------+-----------+-----------+-----------+-----------+\n",
       "| :::       |           | :::       |           | :::       |           |\n",
       "|  gt_colum |           |  gt_colum |           |  gt_colum |           |\n",
       "| n_spanner |           | n_spanner |           | n_spanner |           |\n",
       "| OWNERSHP  |           | VACANCY   |           | GQ        |           |\n",
       "| :::       |           | :::       |           | :::       |           |\n",
       "+===========+===========+===========+===========+===========+===========+\n",
       "| val       | lbl       | val       | lbl       | val       | lbl       |\n",
       "+-----------+-----------+-----------+-----------+-----------+-----------+\n",
       "| 0         | N/A       | 0         | N/A       | 0         | Vacant    |\n",
       "|           |           |           |           |           | unit      |\n",
       "+-----------+-----------+-----------+-----------+-----------+-----------+\n",
       "| 1         | Owned or  | 1         | For rent  | 1         | H         |\n",
       "|           | being     |           | or sale   |           | ouseholds |\n",
       "|           | bought    |           |           |           | under     |\n",
       "|           | (loan)    |           |           |           | 1970      |\n",
       "|           |           |           |           |           | d         |\n",
       "|           |           |           |           |           | efinition |\n",
       "+-----------+-----------+-----------+-----------+-----------+-----------+\n",
       "| 2         | Rented    | 2         | For sale  | 2         | A         |\n",
       "|           |           |           | only      |           | dditional |\n",
       "|           |           |           |           |           | h         |\n",
       "|           |           |           |           |           | ouseholds |\n",
       "|           |           |           |           |           | under     |\n",
       "|           |           |           |           |           | 1990      |\n",
       "|           |           |           |           |           | d         |\n",
       "|           |           |           |           |           | efinition |\n",
       "+-----------+-----------+-----------+-----------+-----------+-----------+\n",
       "| \\         | \\         | 3         | Rented or | 3         | Group     |\n",
       "|           |           |           | sold but  |           | quart     |\n",
       "|           |           |           | not (yet) |           | ers\\--Ins |\n",
       "|           |           |           | occupied  |           | titutions |\n",
       "+-----------+-----------+-----------+-----------+-----------+-----------+\n",
       "| \\         | \\         | 4         | For       | 4         | Other     |\n",
       "|           |           |           | seasonal, |           | group     |\n",
       "|           |           |           | rec       |           | quarters  |\n",
       "|           |           |           | reational |           |           |\n",
       "|           |           |           | or other  |           |           |\n",
       "|           |           |           | o         |           |           |\n",
       "|           |           |           | ccasional |           |           |\n",
       "|           |           |           | use       |           |           |\n",
       "+-----------+-----------+-----------+-----------+-----------+-----------+\n",
       "| \\         | \\         | 5         | For       | 5         | A         |\n",
       "|           |           |           | o         |           | dditional |\n",
       "|           |           |           | ccasional |           | h         |\n",
       "|           |           |           | use       |           | ouseholds |\n",
       "|           |           |           |           |           | under     |\n",
       "|           |           |           |           |           | 2000      |\n",
       "|           |           |           |           |           | d         |\n",
       "|           |           |           |           |           | efinition |\n",
       "+-----------+-----------+-----------+-----------+-----------+-----------+\n",
       "| \\         | \\         | 6         | For       | 6         | Fragment  |\n",
       "|           |           |           | seasonal  |           |           |\n",
       "|           |           |           | use       |           |           |\n",
       "+-----------+-----------+-----------+-----------+-----------+-----------+\n",
       "| \\         | \\         | 7         | For       | \\         | \\         |\n",
       "|           |           |           | migrant   |           |           |\n",
       "|           |           |           | farm      |           |           |\n",
       "|           |           |           | workers   |           |           |\n",
       "+-----------+-----------+-----------+-----------+-----------+-----------+\n",
       "| \\         | \\         | 8         | For       | \\         | \\         |\n",
       "|           |           |           | seasonal  |           |           |\n",
       "|           |           |           | use or    |           |           |\n",
       "|           |           |           | migratory |           |           |\n",
       "+-----------+-----------+-----------+-----------+-----------+-----------+\n",
       "| \\         | \\         | 9         | Other     | \\         | \\         |\n",
       "|           |           |           | vacant    |           |           |\n",
       "+-----------+-----------+-----------+-----------+-----------+-----------+\n"
      ]
     }
    }
   ],
   "source": [
    "# display table\n",
    "acs_var_tbl_gt"
   ],
<<<<<<< HEAD
   "id": "54f78e06-90f5-45d1-87f6-6bb9d0f00096"
=======
   "id": "232e6ec7-d8ef-45d6-a706-8d4b9ad1a918"
>>>>>>> b6343ad (add nhlic)
  },
  {
   "cell_type": "markdown",
   "metadata": {},
   "source": [
    "@tbl-pums-vars includes the values and respective labels for each of the `OWNERSHP`, `VACANCY`, and `GQ` variables.\n",
    "\n",
    "The N/A labels associated with `val=0` for the `OWNERSHP` and `VACANCY` variables is reflective of units which are Vacant, or Occupied, respectively.\n",
    "\n",
    "Given these values we then need to establish filtering parameters for determining vacancy rates.\n",
    "\n",
    "1.  `GQ <= 2 OR GQ ==5` filter out GQ units to only included Households and Vacant Units (including with the 1990 and 2000 Additional Unit definitions)[1].\n",
    "2.  `VACANCY <=2` Remove occasional/seasonal vacant units (4-6) consistent with NAHB analysis. Remove migrant farm worker usage (7), and other vacant (9), as these should be relatively independent of overall vacancy rates. Reclassify `3` - Rented or sold but not (yet) occupied to `0` as occupied.\n",
    "3.  Leave Ownership as is.\n",
    "\n",
    "In order to broadly analyze survey data, and additionally calculate margin of error, the `srvyr` package is used. Prior to analysis a survey object must be defined based on the extracted ACS data. This survey object filters GQ units based on condition 1 above, and removes vacant units based on condition 2 above. Additionally, it reclassifies `VACANCY == 3` to `0` as occupied. Finally, `N/A` values are relabeled for each of the OWNERSHP, and VACANCY variables to reflect that these reflect Vacant and Occupied units, respectively.\n",
    "\n",
    "[1] Note to self - review these definitions to see if we want to exclude any of these groupings."
   ],
<<<<<<< HEAD
   "id": "26c60079-20a4-4b80-8b7c-512586cbd3ad"
=======
   "id": "c01da530-6b33-4c99-a820-272f97844759"
>>>>>>> b6343ad (add nhlic)
  },
  {
   "cell_type": "code",
   "execution_count": null,
   "metadata": {},
   "outputs": [
    {
     "output_type": "stream",
     "name": "stderr",
     "text": [
      "Warning: `as_duckplyr_tibble()` was deprecated in duckplyr 1.0.0.\n",
      "ℹ Please use `as_duckdb_tibble()` instead."
     ]
    }
   ],
   "source": [
    "# create survey design object\n",
    "acs_hh_data <- acs_00_23$HOUSEHOLD |> \n",
    "# remove GQ units and vacant units 4-6\n",
    "  filter(\n",
    "    GQ %in% c(0,1,2,5) & \n",
    "      !(VACANCY %in% c(4:6, 7, 9))\n",
    "    ) |> \n",
    "  # reclassify 3 to 0 and 4-6 to 3\n",
    "  mutate(\n",
    "    VACANCY = lbl_relabel(\n",
    "      VACANCY, \n",
    "      0 ~.val == 3\n",
    "      ),\n",
    "    OWNERSHP = lbl_relabel(\n",
    "      OWNERSHP, \n",
    "      lbl(0, \"Vacant\") ~ .val == 0\n",
    "      )\n",
    "    ) |> \n",
    "      as_factor(levels = \"values\") |> \n",
    "      as_duckplyr_tibble()"
   ],
<<<<<<< HEAD
   "id": "47b52ecd-4437-423c-b3ae-2c4501312b3e"
=======
   "id": "04fdb309-5c11-4840-b15e-98403be3e77d"
>>>>>>> b6343ad (add nhlic)
  },
  {
   "cell_type": "markdown",
   "metadata": {},
   "source": [
<<<<<<< HEAD
    "Then total up on an annual basis the total occupied units each for sale and for rent, as well as vacant units by for sale or for rent[1]\\[^margin of error are calculated as 1.645 \\* standard error consistent with 90% CI\\]. We additionally calculate total occupied and total vacant as the sum of each of these. Vacancy rates are then calculated as $\\sum VACANT_{ot}\\over {\\sum VACANT_{ot}+ \\sum OCCUPIED_{ot}}$ for each occupancy status $o$ and year $t$. Finally we calculate the sum total of occupied and vacant units for each year[2].\n",
=======
    "Then total up on an annual basis the total occupied units each for sale and for rent, as well as vacant units by for sale or for rent[1]\\[^margin of error are calculated as 1.645 \\* standard error consistent with 90% CI\\]. We additionally calculate total occupied and total vacant as the sum of each of these. Vacancy rates are then calculated as \\$ VACANT\\_{ot} \\$ for each occupancy status $o$ and year $t$. Finally we calculate the sum total of occupied and vacant units for each year[2].\n",
>>>>>>> b6343ad (add nhlic)
    "\n",
    "Once the vacancy rates are calculated, we then calculate the average vacancy rate for each year. To get an annual shortfall we then take the difference between the average vacancy rate and the current vacancy rate. Applying this difference to the total number of units for each year gives us the annual shortfall.\n",
    "\n",
    "In combining vacancy rates a `tenure` variable is created to determine if a unit is determined to be sale or rental for the purpose of calculating vacancy rates. This is set equal to the value `rent` for `OWNSHP == 2` and `VACANCY == 1`, and `own` for `OWNSHP == 1` and `VACANCY == 2`; consistent with the classifications determined above.\n",
    "\n",
    "[1] For this purpose we make the assumption that `VACANCY == 1` (For rent or sale) is for Rent, and `VACANCY ==2` (For sale only) is for sale in order to the simplify the analysis.\n",
    "\n",
    "[2] Note to self - verify that margin of error are additive"
   ],
<<<<<<< HEAD
   "id": "9a0cb4bd-5edd-4536-bfb8-5eb5cb8a0c66"
=======
   "id": "14ee7f74-30ce-48f7-9d35-ccdb2dec7b53"
>>>>>>> b6343ad (add nhlic)
  },
  {
   "cell_type": "code",
   "execution_count": null,
   "metadata": {},
   "outputs": [],
   "source": [
    "# calculate vacancy\n",
    "acs_vacancy <- acs_hh_srvy |>\n",
    "  group_by(VACANCY, YEAR) |>\n",
    "  survey_count(VACANCY, name = \"vac\") |>\n",
    "  mutate(\n",
    "    vac_moe = vac_se *1.645,\n",
    "    tenure = case_when(\n",
    "      VACANCY == 1 ~ \"rent\",\n",
    "      VACANCY == 2 ~ \"own\"\n",
    "    )\n",
    "  ) |>\n",
    "  filter(!is.na(tenure)) |>\n",
    "  ungroup()\n",
    "\n",
    "# calculate occupied\n",
    "acs_occupancy <- acs_hh_srvy |>\n",
    "  group_by(OWNERSHP, YEAR) |>\n",
    "  survey_count(OWNERSHP, name = \"occ\") |>\n",
    "  mutate(\n",
    "    occ_moe = occ_se *1.645,\n",
    "    tenure = case_when(\n",
    "      OWNERSHP == 1 ~ \"own\",\n",
    "      OWNERSHP == 2 ~ \"rent\"\n",
    "    )\n",
    "  )|>\n",
    "  filter(!is.na(tenure)) |>\n",
    "  ungroup()\n",
    "\n",
    "# calculate total occupied and total vacant\n",
    "acs_combined_ov <- acs_vacancy |>\n",
    "  select(YEAR, tenure, vac, vac_moe) |>\n",
    "  left_join(acs_occupancy |>\n",
    "              select(YEAR, tenure, occ, occ_moe),\n",
    "            by = c(\"YEAR\", \"tenure\")) %>% # old style pipe needs to be used to pipe . into bind_rows\n",
    "  bind_rows(\n",
    "    summarize(\n",
    "      .,\n",
    "      tenure = \"total\",\n",
    "      across(c(vac:occ_moe), sum),\n",
    "      .by = YEAR)\n",
    "  ) |>\n",
    "  mutate(\n",
    "    total = vac + occ,\n",
    "    vac_rate = vac/total\n",
    "  ) |>\n",
    "  group_by(tenure) |>\n",
    "  mutate(avg_vac_rate = mean(vac_rate)) |>\n",
    "  ungroup() |>\n",
    "  mutate(\n",
    "    diff_from_avg = avg_vac_rate - vac_rate,\n",
    "    shortfall = diff_from_avg * total)\n",
    "\n",
    "current_shortfall <- acs_combined_ov |>\n",
    "  filter(YEAR == 2023) |>\n",
    "  select(-YEAR) |>\n",
    "  mutate(tenure = str_to_title(tenure)) |>\n",
    "  gt() |>\n",
    "  fmt_number(c(vac:total, shortfall), decimals = 0) |>\n",
    "  fmt_percent(c(vac_rate:diff_from_avg)) |>\n",
    "  cols_label(\n",
    "    tenure = \"Tenure\",\n",
    "    vac = \"Vacant\",\n",
    "    vac_moe = \"Margin of Error\",\n",
    "    occ = \"Occupied\",\n",
    "    occ_moe = \"Margin of Error\",\n",
    "    total = \"Total\",\n",
    "    vac_rate = \"Vacancy Rate\",\n",
    "    avg_vac_rate = \"Average Vacancy Rate\",\n",
    "    diff_from_avg = \"Difference from Average\",\n",
    "    shortfall = \"Shortfall\"\n",
    "  ) |>\n",
    "  cols_align(\"center\")"
   ],
<<<<<<< HEAD
   "id": "e9371b2f-6a62-4656-8ead-daa0bd66fa23"
=======
   "id": "172d1188-7d10-4322-8ab3-1ad216577867"
>>>>>>> b6343ad (add nhlic)
  },
  {
   "cell_type": "code",
   "execution_count": null,
   "metadata": {},
   "outputs": [
    {
     "output_type": "display_data",
     "metadata": {},
     "data": {
      "text/html": [
       "\n",
       "</div>"
      ],
      "text/markdown": [
       "  Tenure   Vacant   Margin of Error   Occupied    Margin of Error   Total       Vacancy Rate   Average Vacancy Rate   Difference from Average   Shortfall\n",
       "  -------- -------- ----------------- ----------- ----------------- ----------- -------------- ---------------------- ------------------------- -----------\n",
       "  Rent     41,901   5,192             835,314     22,157            877,215     4.78%          6.53%                  1.76%                     15,414\n",
       "  Own      12,816   2,753             1,592,949   24,493            1,605,765   0.80%          1.64%                  0.84%                     13,549\n",
       "  Total    54,717   7,945             2,428,263   46,649            2,482,980   2.20%          3.32%                  1.12%                     27,699\n"
      ]
     }
    }
   ],
   "source": [
    "current_shortfall\n",
    "# define get_shortfall function to return shortfall based on tenure and format data\n",
    "extract_shortfall <- function (ten_type) {\n",
    "  current_shortfall |>\n",
    "    fmt_number(decimals = 1, suffixing = \"K\") |>\n",
    "    extract_cells(shortfall, rows = tenure == ten_type)\n",
    "}"
   ],
<<<<<<< HEAD
   "id": "8a06687e-097c-4e83-a0fe-5139e8c6e9cf"
=======
   "id": "b57cb3ef-342f-4fd0-8cac-3a2cc91e05b9"
>>>>>>> b6343ad (add nhlic)
  },
  {
   "cell_type": "markdown",
   "metadata": {},
   "source": [
    "@tbl-nahb-shortfall contains the calculated shortfall for 2023 using the NAHB methodology. Using this methodology shortfalls of 15.4K units for rent and 13.5K units for ownership are determined, for a total shortfall of 27.7K[1].\n",
    "\n",
    "### Freddie Mac\n",
    "\n",
    "Freddie Mac determines the Target Housing Stock `k*` as a function of target number of households `hh*`, and target vacancy rate `v*`, as provided in \\[@eq-freddie-mac-housing-units; @khater2021\\].\n",
    "\n",
    "$$\n",
    "k^* = {{hh^*}\\over{1-v^*}}\n",
    "$$ {#eq-freddie-mac-housing-units}\n",
    "\n",
    "Target households are based on target headship rates according to the methods used in the 2018 Freddie Mac analysis. This analysis calculates target households based on 5 year age groups from the 1994-2018 Current Population Survey-Annual Social and Economic Supplement for target number of households $hh^*$, based on population $pop_i$ and headship rate $hr_i^*$ as provided in \\[@eq-freddie-mac-headship-rate; @khater2018\\].\n",
    "\n",
    "$$ \n",
    "{hh^*}= \\sum_{i=15}^{65+}pop_i^*hr_i^*\n",
    "$$ {#eq-freddie-mac-headship-rate}\n",
    "\n",
    "In their analysis the target headship rate is adjusted based on factors for housing costs, income, and employment, adjusting for the contribution of each using a Oaxaca-Blinder decomposition to determine the relative contribution of each factor. \\[@khater2018\\]\n",
    "\n",
    "In this analysis we simplify the target headship rate to be the average headship rate of the population from 2000-2023, based on our dataset above. We calculate these headship rates by similarly bucketing households based on 5 year age groups from 15-19 to 65+ and calculating the headship rate for each group, where headship rate in year $t$, $hr_{it}$, is calculated as the number of households with a head of household in age group $i$ divided by the total number of households in age group $i$, as provided in @eq-headship-rate. We then calculate the average headship rate for each group across the years 2000-2023, which is used as the target headship rate.\n",
    "\n",
    "$$\n",
    "hr_{it} = {{hh_{it}}\\over{pop_{it}}}\n",
    "$$ {#eq-headship-rate}\n",
    "\n",
    "[1] Note: the Total shortfall is less than the sum of the own and vacant shortfalls due to differences as vacancy rates are determined by tenure."
   ],
<<<<<<< HEAD
   "id": "16561fe1-7efc-4180-a01f-df3fb8f396a2"
=======
   "id": "20128aad-592f-4758-a32c-1391c5ff4cb4"
>>>>>>> b6343ad (add nhlic)
  },
  {
   "cell_type": "code",
   "execution_count": null,
   "metadata": {},
   "outputs": [],
   "source": [
    "# Calculate headship rates for each age group for each year from 2000-2023\n",
    "acs_hr_data <- acs_00_23$PERSON |>\n",
    "  zap_labels(AGE) |>\n",
    "  as_factor() |>\n",
    "  as_duckplyr_tibble() |>\n",
    "  # join GQ data from household level to person level\n",
    "  left_join(acs_hh_data |>\n",
    "              select(YEAR, SERIAL, GQ), by = c(\"YEAR\", \"SERIAL\")) |>\n",
    "  filter(GQ %in% c(1, 2, 5)) |>\n",
    "  # create age bins\n",
    "  mutate(\n",
    "    # generate age breaks for cuts\n",
    "    age_bin = cut(\n",
    "      AGE,\n",
    "      breaks = c(15, 20, 25, 30, 35, 40, 45, 50, 55, 60, 65, Inf),\n",
    "      right = FALSE\n",
    "    ),\n",
    "    # flag head of household\n",
    "    head_of_household = ifelse(PERNUM == 1, 1, 0)\n",
    "  )\n",
    "\n",
    "acs_hr_srvy <- acs_hr_data |>\n",
    "  # create survey object from acs_hr_data dataframe\n",
    "  as_survey_design(\n",
    "    weight = PERWT,\n",
    "    repweights = matches(\"REPWTP[0-9]+\"),\n",
    "    type = \"ACS\",\n",
    "    mse = TRUE\n",
    "  )\n",
    "\n",
    "# calculate headship rates for each age group for each year from 2000-2023\n",
    "acs_hr_totl_persons <- acs_hr_srvy |>\n",
    "  survey_count(YEAR, age_bin, name = \"total_persons\")\n",
    "\n",
    "acs_hr_hh_heads <- acs_hr_srvy |>\n",
    "  filter(PERNUM == 1) |>\n",
    "  survey_count(YEAR, age_bin, name = \"total_hh\")\n",
    "\n",
    "calc_headship_rates <- function(end_year) {\n",
    "  acs_hr_hh_heads |>\n",
    "    left_join(acs_hr_totl_persons, by = c(\"YEAR\", \"age_bin\")) |>\n",
    "    mutate(hr = total_hh / total_persons) |>\n",
    "    group_by(age_bin) |>\n",
    "    mutate(target_hr = mean(hr[YEAR <= end_year])) |>\n",
    "    ungroup() |>\n",
    "    mutate(target_hh = target_hr * total_persons,\n",
    "           missing_hh = target_hh - total_hh) %>%\n",
    "    bind_rows(\n",
    "      summarize(\n",
    "        .,\n",
    "        age_bin = \"total\",\n",
    "        across(c(\n",
    "          total_hh:total_persons_se, target_hh, missing_hh\n",
    "        ), sum),\n",
    "        hr = total_hh / total_persons,\n",
    "        target_hr = target_hh / total_persons,\n",
    "        .by = YEAR\n",
    "      )\n",
    "    ) |>\n",
    "    mutate(end_year = end_year, .before = 1)\n",
    "}\n",
    "\n",
    "acs_headship_rates <- calc_headship_rates(2015)"
   ],
<<<<<<< HEAD
   "id": "d5ced27a-8009-48b7-aa59-3a22dd73536f"
=======
   "id": "fc2b1c5b-7899-4034-b816-8dd58dd88a35"
>>>>>>> b6343ad (add nhlic)
  },
  {
   "cell_type": "markdown",
   "metadata": {},
   "source": [
    "Using this analysis we find that the target number of households based on target headship rates is extremely sensitive to the end year of the target period. To demonstrate this we run the analysis based on end years of 2010, 2015, and 2020, showing the results for the “total” age_bin."
   ],
<<<<<<< HEAD
   "id": "06846682-95e2-4192-963d-22a3b65b6dc5"
=======
   "id": "cbac8603-e298-46f6-9cf8-9e5502eb68c3"
>>>>>>> b6343ad (add nhlic)
  },
  {
   "cell_type": "code",
   "execution_count": null,
   "metadata": {},
   "outputs": [
    {
     "output_type": "display_data",
     "metadata": {},
     "data": {
      "text/html": [
       "\n",
       "</div>"
      ],
      "text/markdown": [
       "  End Year   Total Households   Standard Error   Total Persons   Standard Error   Headship Rate   Target Headship Rate   Target Households   Missing Households\n",
       "  ---------- ------------------ ---------------- --------------- ---------------- --------------- ---------------------- ------------------- --------------------\n",
       "  2010       2,428,261          64,930           4,768,459       92,757           50.92%          52.27%                 2,492,246           63,985\n",
       "  2015       2,428,261          64,930           4,768,459       92,757           50.92%          51.45%                 2,453,251           24,990\n",
       "  2020       2,428,261          64,930           4,768,459       92,757           50.92%          50.70%                 2,417,765           −10,496\n"
      ]
     }
    }
   ],
   "source": [
    "headship_rates_by_end_year <-\n",
    "  map(c(2010, 2015, 2020), calc_headship_rates) |>\n",
    "  bind_rows() |>\n",
    "  filter(age_bin == \"total\" & YEAR == 2023) |>\n",
    "  select(-YEAR, -age_bin) |>\n",
    "  gt() |>\n",
    "  fmt_number(!end_year, decimals = 0) |>\n",
    "  fmt_percent(hr:target_hr) |>\n",
    "  cols_align(\"center\") |>\n",
    "  cols_label(\n",
    "    end_year = \"End Year\",\n",
    "    total_persons = \"Total Persons\",\n",
    "    total_hh = \"Total Households\",\n",
    "    target_hh = \"Target Households\",\n",
    "    missing_hh = \"Missing Households\",\n",
    "    hr = \"Headship Rate\",\n",
    "    target_hr = \"Target Headship Rate\",\n",
    "    total_hh_se = \"Standard Error\",\n",
    "    total_persons_se = \"Standard Error\"\n",
    "  )\n",
    "\n",
    "headship_rates_by_end_year"
   ],
<<<<<<< HEAD
   "id": "996e5178-2317-41c6-929e-6b225205fd22"
=======
   "id": "15e03670-1558-412b-ba43-fb3a7689f725"
>>>>>>> b6343ad (add nhlic)
  },
  {
   "cell_type": "markdown",
   "metadata": {},
   "source": [
    "This is largely driven by the large increase in headship rates beginning around 2006, as seen in @fig-headship-rates."
   ],
<<<<<<< HEAD
   "id": "40d8b402-d487-4e3d-942b-f19f64e3acbf"
=======
   "id": "94551d79-2c46-44bc-9154-787c20482e16"
>>>>>>> b6343ad (add nhlic)
  },
  {
   "cell_type": "code",
   "execution_count": null,
   "metadata": {},
   "outputs": [
    {
     "output_type": "display_data",
     "metadata": {},
     "data": {
      "image/png": "iVBORw0KGgoAAAANSUhEUgAABUAAAAPACAIAAAB7BESOAAAACXBIWXMAAB2HAAAdhwGP5fFlAAAg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\nwz8AAAAASUVORK5CYII=\n"
     }
    }
   ],
   "source": [
    "acs_headship_rates |> \n",
    "  filter(age_bin == \"total\") %>%\n",
    "  bind_rows(\n",
    "    expand_grid\n",
    "    (YEAR = 2000:2023,\n",
    "      summarize(\n",
    "        .,\n",
    "        age_bin = \"avg\",\n",
    "        hr = mean(hr)\n",
    "        )\n",
    "      )\n",
    "    ) |> \n",
    "  ggplot(\n",
    "    aes(\n",
    "      x = YEAR, \n",
    "      y = hr, \n",
    "      color = age_bin\n",
    "      )\n",
    "    ) +\n",
    "  geom_line() +\n",
    "  scale_y_continuous(\n",
    "    labels = label_percent()\n",
    "  ) +\n",
    "  labs(\n",
    "    x = \"Year\",\n",
    "    y = \"Headship Rate\",\n",
    "    color = \"Overall Headship Rate\"\n",
    "  ) +\n",
    "  scale_color_discrete(\n",
    "    labels = c(\n",
    "      \"avg\" = \"2000-2023 Average\",\n",
    "      \"total\" = \"Annual\"\n",
    "    )\n",
    "  )"
   ],
   "id": "cell-fig-headship-rates"
<<<<<<< HEAD
=======
  },
  {
   "cell_type": "markdown",
   "metadata": {},
   "source": [
    "### National Association of Realtors\n",
    "\n",
    "This uses the decline in building rates during the 2000s relative to the long term averages between 1968 and 2000 to determine the shortfall in housing from the supply side. This method was not recreated due to the inherent underlying assumptions. In particular, growth rates are not necessarily linear over time, and this is particularly the case with rapidly growing states. Colorado in particular was undergoing rapid urbanization and it is not necessarily safe to assume that growth of this style would continue.\n",
    "\n",
    "### National Low Income Housing Coalitition (NLIHC)\n",
    "\n",
    "This calculates the housing gap based on the difference between households by AMI (extremely low-income, very low-income, low-income, middle-income, or above median income), based on the applicable HUD AMI. Housing Units were separately categorized into income necessary to rent them, based on spending more than 30% of their income on housing costs (regardless of the actual income of the household occupying that housing unit). Finally they examined the extent to which households in each AMI group resided in a unit which was affordable to that household. \\[@thegap2024\\]\n",
    "\n",
    "While this methodology is similar to the method SDO is currently working as part of its Housing Needs Assessments there is no need to recreate the table directly, as NLIHC provides state level results for all states, including [Colorado](https://nlihc.org/gap/state/co), based on 2022 ACS data.\n",
    "\n",
    "Based on their methodology NLIHC finds Colorado to be short 119,782 housing units at the Extremely Low Income (0 to 30% of Area Median Income), and 165,053 units for households at or below 50% AMI (including those who were classified as Extremely Low Income. While statewide they find that there are 101 Affordable and Available Rental Units per 100 Households for those At or Below 100% AMI, there are only 27 and 44 units Affordable and Available to those at or below the 30% and 50% AMI levels, respectively. Similarly they find that for households which are in the 0-30%, and 31-50% AMI bands, 88% and 83% units, respectively are Cost Burdened, while only 22% of units between 81 and 100% AMI are. \\[@gaprepo\\]\n",
    "\n",
    "One important footnote to the NLIHC study, however, is that the units identified are not necessarily new housing units which must be built. Rather they indicate households that may reside in housing units already, but for which the cost may be unaffordable. This distinction is important because the housing already exists, and the objective then is to determine a method for making these units affordable to these families, which can occur in different ways, including by subsidizing rents for residents to bridge the gap between 30% of their income and the market rent being charged on their unit. Additionally, because housing prices are determined on the margins, each additional housing unit in theory pushes down housing prices by some incremental amount, holding demand equal. Therefore the number of units necessary to push prices down to a level which becomes affordable to residents at these costs is not necessarily equal to the total number of households experience affordability problems, and, in fact, may be significantly higher or lower depending on these effects and the manner to which lower rents filter down through the housing stock."
   ],
   "id": "0c881d88-f062-46c4-be0c-02de3c8a8b6f"
>>>>>>> b6343ad (add nhlic)
  }
 ],
 "nbformat": 4,
 "nbformat_minor": 5,
 "metadata": {}
}
