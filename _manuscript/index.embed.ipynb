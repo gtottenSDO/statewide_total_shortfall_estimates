{
 "cells": [
  {
   "cell_type": "markdown",
   "metadata": {},
   "source": [
    "# Estimating Colorado’s Housing Shortfall\n",
    "\n",
    "Greg Totten (Colorado State Demography Office)"
   ],
   "id": "cbcec22e-2404-4015-9932-4a6b0641ce8e"
  },
  {
   "cell_type": "code",
   "execution_count": null,
   "metadata": {},
   "outputs": [
    {
     "output_type": "stream",
     "name": "stderr",
     "text": [
      "Warning: Your system is mis-configured: '/etc/localtime' is not a symlink"
     ]
    },
    {
     "output_type": "stream",
     "name": "stderr",
     "text": [
      "Warning: It is strongly recommended to set envionment variable TZ to\n",
      "'America/Denver' (or equivalent)"
     ]
    },
    {
     "output_type": "stream",
     "name": "stderr",
     "text": [
      "── Attaching core tidyverse packages ──────────────────────── tidyverse 2.0.0 ──\n",
      "✔ dplyr     1.1.4     ✔ readr     2.1.5\n",
      "✔ forcats   1.0.0     ✔ stringr   1.5.1\n",
      "✔ ggplot2   3.5.1     ✔ tibble    3.2.1\n",
      "✔ lubridate 1.9.4     ✔ tidyr     1.3.1\n",
      "✔ purrr     1.0.4     \n",
      "── Conflicts ────────────────────────────────────────── tidyverse_conflicts() ──\n",
      "✖ dplyr::filter() masks stats::filter()\n",
      "✖ dplyr::lag()    masks stats::lag()\n",
      "ℹ Use the conflicted package (<http://conflicted.r-lib.org/>) to force all conflicts to become errors"
     ]
    },
    {
     "output_type": "stream",
     "name": "stderr",
     "text": [
      "The duckplyr package is configured to fall back to dplyr when it encounters an\n",
      "incompatibility. Fallback events can be collected and uploaded for analysis to\n",
      "guide future development. By default, data will be collected but no data will\n",
      "be uploaded.\n",
      "ℹ Automatic fallback uploading is not controlled and therefore disabled, see\n",
      "  `?duckplyr::fallback()`.\n",
      "✔ Number of reports ready for upload: 3.\n",
      "→ Review with `duckplyr::fallback_review()`, upload with\n",
      "  `duckplyr::fallback_upload()`.\n",
      "ℹ Configure automatic uploading with `duckplyr::fallback_config()`.\n",
      "✔ Overwriting dplyr methods with duckplyr methods.\n",
      "ℹ Turn off with `duckplyr::methods_restore()`."
     ]
    },
    {
     "output_type": "stream",
     "name": "stderr",
     "text": [
      "\n",
      "Attaching package: 'srvyr'\n",
      "\n",
      "The following object is masked from 'package:stats':\n",
      "\n",
      "    filter"
     ]
    }
   ],
   "source": [
    "library(tidyverse)"
   ],
   "id": "315d8283-4ca4-4c63-8de0-581d1eaba83b"
  },
  {
   "cell_type": "markdown",
   "metadata": {},
   "source": [
    "## Defining The Shortfall\n",
    "\n",
    "In order to estimate the total housing shortfall in Colorado, we must first define the metrics by which we are going to assess the number of housing units the state might be short.\n",
    "\n",
    "How these metrics are defined can have a significant impact on the resulting analysis. As a highly stylized example to demonstrate this concept let’s begin by using two examples to bound our estimates:\n",
    "\n",
    "1.  Every person currently residing in the state does so inside of a permanent housing unit. In this scenario we would have a relatively low estimate of the total number of necessary housing units - as what would be required is enough units to house the state’s unhoused population. In this case the estimate of number housing units might just be the estimate of the number of people in this population. However, this could be reduced by changing our requirements of housing to include any shelter - such as tents as vehicles, which would likely bring the estimated much lower.\n",
    "2.  Every current US resident who would like to live in Colorado may do so, and they will be able to do so for free. Conversely, in this scenario we might expect an estimate that is quite high, as while some people still may opt not to reside in our beautiful state (perhaps they do not particularly like sun), we could reasonably expect many Americans, perhaps into the hundreds of millions, might opt to spend no money to live in our beautiful state.\n",
    "\n",
    "In between these two estimates are a range of scenarios that might be indicative of the number of housing units which are necessary - based on the objectives we are trying to determine, and the underlying assumptions about housing preferences which underlie them. In this paper we will examine a variety of methods, based primarily on studies by other researchers, that we can apply to Colorado to determine the estimated housing shortfall in the state, under that method. In this way we will provide not so much a point estimate of the total housing shortfall, but a range of estimates which can be utilized by planners and policy makers based on their discretion with respect to the reasonableness and applicability of each method. In doing so we also hope to plan a clear, concise, explanation of the method, what objective it is attempting to solve for, and the meaning of the estimate within that context.\n",
    "\n",
    "## Data\n",
    "\n",
    "Data primarily comes from the most recent American Community Survey (“ACS”) one year estimates for Colorado, and data from the Colorado State Demography Office (“SDO”). One year ACS estimates are primarily used as the population of the state is large enough to allow for the use of such estimates. If applying similar methodologies at smaller geography levels (such as county level), it may be necessary to instead use 5 year estimates. Additionally, some methods of deriving estimates, such as by analyzing Public Use Microdata Sample (“PUMS”) data may not be possible for all methods. As such many methods determined here may only be applicable at the state level.\n",
    "\n",
    "## Examples\n",
    "\n",
    "### Harvard Joint Center for Housing Studies Blog\n",
    "\n",
    "One resource that compares four relatively recent national studies attempting to determine housing shortfalls are a January 2024 blog entry from the Harvard Joint Center for Housing Studies (“JHCS”) \\[@mccue2024\\]. The four studies each utilize different methodologies and resulting estimates covering different years. The four studies are:\n",
    "\n",
    "1.  [National Association of Home Builders (NAHB) 2021](https://www.freddiemac.com/research/insight/20210507-housing-supply)\n",
    "2.  [Freddie Mac 2020](https://www.freddiemac.com/research/insight/20210507-housing-supply)\n",
    "3.  [National Association of Realtors (NAR) 2021](https://www.nar.realtor/advocacy/housing-is-critical-infrastructure)\n",
    "4.  [National Low Income Housing Coalition (NLIHC)](https://nlihc.org/gap)\n",
    "\n",
    "The following sections will provide estimates of the housing shortage in Colorado based on each of these study methodologies.\n",
    "\n",
    "### National Association of Home Builders\n",
    "\n",
    "The NAHB study estimates the national housing shortage by examining the difference in ACS vacancy rates in the current year from their long run average. This resulted in an estimated shortage of 1.5 million units.\n",
    "\n",
    "The first step is to create a time series of vacancy rates for the state with ACS data. This data is accessed from the IPUMS USA database \\[@ruggles2024a\\] using the `ipumsr` package in R \\[@ipumsr\\]."
   ],
   "id": "147d140f-e11d-418f-934d-b4c88b3ae3c2"
  },
  {
   "cell_type": "code",
   "execution_count": null,
   "metadata": {},
   "outputs": [
    {
     "output_type": "stream",
     "name": "stderr",
     "text": [
      "Use of data from IPUMS USA is subject to conditions including that users should cite the data appropriately. Use command `ipums_conditions()` for more details."
     ]
    }
   ],
   "source": [
    "acs_samples <- get_sample_info(\"usa\") |>\n",
    "  filter(str_detect(name, pattern = \"20\\\\d+a$\")) |> \n",
    "  pull(name)\n",
    "\n",
    "ipums_dir <- \"data/ipums_raw/\"\n",
    "ipums_ddi <- \"usa_00080.xml\"\n",
    "file_loc <- paste0(\n",
    "  ipums_dir,\n",
    "  ipums_ddi\n",
    ")\n",
    "  if (file.exists(file_loc)) {\n",
    "    acs_ddi <- read_ipums_ddi(file_loc)\n",
    "    acs_00_23 <- acs_ddi |>\n",
    "      read_ipums_micro()\n",
    "  } else {\n",
    "acs_00_23 <- define_extract_micro(\n",
    "      collection = \"usa\",\n",
    "      description = \"ACS 1 year samples in Colorado of vacancy variables\",\n",
    "      samples = acs_samples,\n",
    "      variables = list(\n",
    "        var_spec(\"STATEFIP\", case_selections = \"08\"),\n",
    "        \"COUNTYFIP\",\n",
    "        \"PUMA\",\n",
    "        \"GQ\",\n",
    "        \"OWNERSHP\",\n",
    "        \"VACANCY\",\n",
    "        \"REPWT\"\n",
    "      ),\n",
    "      data_structure = \"household_only\"\n",
    "    ) |>\n",
    "      submit_extract() |>\n",
    "      wait_for_extract() |>\n",
    "      download_extract(download_dir = ipums_dir) |>\n",
    "      read_ipums_micro()\n",
    "  }"
   ],
   "id": "10443b02-5efb-484e-a9ce-7e37732eba33"
  },
  {
   "cell_type": "markdown",
   "metadata": {},
   "source": [
    "Vacancy rates are calculated based on both the `OWNERSHP` and `VACANCY` variables. Additionally the `GQ` variable is used to filter out group quarters.\n",
    "\n",
    "In order to calculate vacancy rates it is necessary to first understand what each of the values for each variable represents"
   ],
   "id": "dc8fe041-c88b-480d-950d-be01b1992bdf"
  },
  {
   "cell_type": "code",
   "execution_count": null,
   "metadata": {},
   "outputs": [],
   "source": [
    "# create acs_info from the DDI which includes variable information\n",
    "acs_info <- ipums_var_info(acs_ddi)\n",
    "\n",
    "# generate table with variable information\n",
    "# table will include columns {VAR}_val, and {VAR}_lbl with the value and\n",
    "# label for each variable. This is setup so tab_spanner_delim can be used to\n",
    "# separate out columns in a GT table\n",
    "acs_var_tbl <- acs_info |>\n",
    "  # only include necessary variables\n",
    "  filter(var_name %in% c('OWNERSHP', 'VACANCY', \"GQ\")) |>\n",
    "  # remove other columns\n",
    "  select(var_name, val_labels) |>\n",
    "  # unnest labels from nested columns\n",
    "  unnest(val_labels) |>\n",
    "  # group by var_name for generating row numbers to unpivot without lists\n",
    "  group_by(var_name) |>\n",
    "  # add row_numbers\n",
    "  mutate(row = row_number()) |>\n",
    "  ungroup() |> \n",
    "  # pivot wider to generate table\n",
    "  pivot_wider(names_from = var_name,\n",
    "              values_from = c(val, lbl),\n",
    "              # specify order of variable then val/lbl column\n",
    "              names_glue = \"{var_name}_{.value}\",\n",
    "              # use slowest so variables are grouped together\n",
    "              names_vary = \"slowest\") |>\n",
    "  # remove row index as no longer necessary\n",
    "  select(-row) |> \n",
    "  # move GQ to end\n",
    "  relocate(starts_with(\"GQ\"), .after = last_col())\n",
    "\n",
    "# create GT table with information\n",
    "acs_var_tbl_gt <- acs_var_tbl |>\n",
    "  gt() |> \n",
    "  # create spanners based on the column separators defined above\n",
    " tab_spanner_delim(delim = \"_\") |>\n",
    "  # Replace NA values with empty strings\n",
    "  sub_missing(\n",
    "    missing_text = \"\"\n",
    "  )"
   ],
   "id": "eea5493d-67e0-4d3c-9de6-62eeaad6f2e5"
  },
  {
   "cell_type": "code",
   "execution_count": null,
   "metadata": {},
   "outputs": [
    {
     "output_type": "display_data",
     "metadata": {},
     "data": {
      "text/html": [
       "\n",
       "</div>"
      ],
      "text/markdown": [
       "+-----------+-----------+-----------+-----------+-----------+-----------+\n",
       "| :::       |           | :::       |           | :::       |           |\n",
       "|  gt_colum |           |  gt_colum |           |  gt_colum |           |\n",
       "| n_spanner |           | n_spanner |           | n_spanner |           |\n",
       "| OWNERSHP  |           | VACANCY   |           | GQ        |           |\n",
       "| :::       |           | :::       |           | :::       |           |\n",
       "+===========+===========+===========+===========+===========+===========+\n",
       "| val       | lbl       | val       | lbl       | val       | lbl       |\n",
       "+-----------+-----------+-----------+-----------+-----------+-----------+\n",
       "| 0         | N/A       | 0         | N/A       | 0         | Vacant    |\n",
       "|           |           |           |           |           | unit      |\n",
       "+-----------+-----------+-----------+-----------+-----------+-----------+\n",
       "| 1         | Owned or  | 1         | For rent  | 1         | H         |\n",
       "|           | being     |           | or sale   |           | ouseholds |\n",
       "|           | bought    |           |           |           | under     |\n",
       "|           | (loan)    |           |           |           | 1970      |\n",
       "|           |           |           |           |           | d         |\n",
       "|           |           |           |           |           | efinition |\n",
       "+-----------+-----------+-----------+-----------+-----------+-----------+\n",
       "| 2         | Rented    | 2         | For sale  | 2         | A         |\n",
       "|           |           |           | only      |           | dditional |\n",
       "|           |           |           |           |           | h         |\n",
       "|           |           |           |           |           | ouseholds |\n",
       "|           |           |           |           |           | under     |\n",
       "|           |           |           |           |           | 1990      |\n",
       "|           |           |           |           |           | d         |\n",
       "|           |           |           |           |           | efinition |\n",
       "+-----------+-----------+-----------+-----------+-----------+-----------+\n",
       "| \\         | \\         | 3         | Rented or | 3         | Group     |\n",
       "|           |           |           | sold but  |           | quart     |\n",
       "|           |           |           | not (yet) |           | ers\\--Ins |\n",
       "|           |           |           | occupied  |           | titutions |\n",
       "+-----------+-----------+-----------+-----------+-----------+-----------+\n",
       "| \\         | \\         | 4         | For       | 4         | Other     |\n",
       "|           |           |           | seasonal, |           | group     |\n",
       "|           |           |           | rec       |           | quarters  |\n",
       "|           |           |           | reational |           |           |\n",
       "|           |           |           | or other  |           |           |\n",
       "|           |           |           | o         |           |           |\n",
       "|           |           |           | ccasional |           |           |\n",
       "|           |           |           | use       |           |           |\n",
       "+-----------+-----------+-----------+-----------+-----------+-----------+\n",
       "| \\         | \\         | 5         | For       | 5         | A         |\n",
       "|           |           |           | o         |           | dditional |\n",
       "|           |           |           | ccasional |           | h         |\n",
       "|           |           |           | use       |           | ouseholds |\n",
       "|           |           |           |           |           | under     |\n",
       "|           |           |           |           |           | 2000      |\n",
       "|           |           |           |           |           | d         |\n",
       "|           |           |           |           |           | efinition |\n",
       "+-----------+-----------+-----------+-----------+-----------+-----------+\n",
       "| \\         | \\         | 6         | For       | 6         | Fragment  |\n",
       "|           |           |           | seasonal  |           |           |\n",
       "|           |           |           | use       |           |           |\n",
       "+-----------+-----------+-----------+-----------+-----------+-----------+\n",
       "| \\         | \\         | 7         | For       | \\         | \\         |\n",
       "|           |           |           | migrant   |           |           |\n",
       "|           |           |           | farm      |           |           |\n",
       "|           |           |           | workers   |           |           |\n",
       "+-----------+-----------+-----------+-----------+-----------+-----------+\n",
       "| \\         | \\         | 8         | For       | \\         | \\         |\n",
       "|           |           |           | seasonal  |           |           |\n",
       "|           |           |           | use or    |           |           |\n",
       "|           |           |           | migratory |           |           |\n",
       "+-----------+-----------+-----------+-----------+-----------+-----------+\n",
       "| \\         | \\         | 9         | Other     | \\         | \\         |\n",
       "|           |           |           | vacant    |           |           |\n",
       "+-----------+-----------+-----------+-----------+-----------+-----------+\n"
      ]
     }
    }
   ],
   "source": [
    "# display table\n",
    "acs_var_tbl_gt"
   ],
   "id": "5de0c9fe-cd84-4d53-99a1-00dc2735518a"
  },
  {
   "cell_type": "markdown",
   "metadata": {},
   "source": [
    "@tbl-pums-vars includes the values and respective labels for each of the `OWNERSHP`, `VACANCY`, and `GQ` variables.\n",
    "\n",
    "The N/A labels associated with `val=0` for the `OWNERSHP` and `VACANCY` variables is reflective of units which are Vacant, or Occupied, respectively.\n",
    "\n",
    "Given these values we then need to establish filtering parameters for determining vacancy rates.\n",
    "\n",
    "1.  `GQ <= 2 OR GQ ==5` filter out GQ units to only included Households and Vacant Units (including with the 1990 and 2000 Additional Unit definitions)[1].\n",
    "2.  `VACANCY <=2` Remove occasional/seasonal vacant units (4-6) consistent with NAHB analysis. Remove migrant farm worker usage (7), and other vacant (9), as these should be relatively independent of overall vacancy rates. Reclassify `3` - Rented or sold but not (yet) occupied to `0` as occupied.\n",
    "3.  Leave Ownership as is.\n",
    "\n",
    "In order to broadly analyze survey data, and additionally calculate margin of error, the `srvyr` package is used. Prior to analysis a survey object must be defined based on the extracted ACS data. This survey object filters GQ units based on condition 1 above, and removes vacant units based on condition 2 above. Additionally, it reclassifies `VACANCY == 3` to `0` as occupied. Finally, `N/A` values are relabeled for each of the OWNERSHP, and VACANCY variables to reflict that these reflect Vacant and Occupied units, respectively.\n",
    "\n",
    "[1] Note to self - review these definitions to see if we want to exclude any of these groupings."
   ],
   "id": "95f67252-7d44-4a34-a28e-5ffde15a17bb"
  },
  {
   "cell_type": "code",
   "execution_count": null,
   "metadata": {},
   "outputs": [],
   "source": [
    "# create survey design object\n",
    "acs_srvy <- acs_00_23 |> \n",
    "    as_survey_design(\n",
    "      weight = HHWT,\n",
    "        repweights = matches(\"REPWT[0-9]+\"),\n",
    "        type = \"ACS\", mse = TRUE) |> \n",
    "# remove GQ units and vacant units 4-6\n",
    "  filter(GQ %in% c(0,1,2,5) & !(VACANCY %in% c(4:6, 7, 9)))  |> \n",
    "  # reclassify 3 to 0 and 4-6 to 3\n",
    "  mutate(\n",
    "    VACANCY = lbl_relabel(VACANCY, 0 ~.val == 3),\n",
    "    OWNERSHP = lbl_relabel(OWNERSHP, lbl(0, \"Vacant\") ~ .val == 0)#,\n",
    "    #VACANCY = lbl_relabel(VACANCY, lbl(0, \"Occupied\") ~ .val == 0)\n",
    "    )"
   ],
   "id": "5e0838fd-a458-4fd0-a94d-1a886f7f1552"
  },
  {
   "cell_type": "markdown",
   "metadata": {},
   "source": [
    "Then total up on an annual basis the total occupied units each for sale and for rent, as well as vacant units by for sale or for rent[1]\\[^margin of error are calculated as 1.645 \\* standard error consistent with 90% CI\\]. We additionally calculate total occupied and total vacant as the sum of each of these. Vacancy rates are then calculated as $\\sum VACANT_{ot}\\over {\\sum VACANT_{ot}+ \\sum OCCUPIED_{ot}}$ for each occupancy status $o$ and year $t$. Finally we calculate the sum total of occupied and vacant units for each year[2].\n",
    "\n",
    "Once the vacancy rates are calculated, we then calculate the average vacancy rate for each year. To get an annual shortfall we then take the difference between the average vacancy rate and the current vacancy rate. Applying this difference to the total number of units for each year gives us the annual shortfall.\n",
    "\n",
    "In combining vacancy rates a `tenure` variable is created to determine if a unit is determined to be sale or rental for the purpose of calculating vacancy rates. This is set equal to the value `rent` for `OWNSHP == 2` and `VACANCY == 1`, and `own` for `OWNSHP == 1` and `VACANCY == 2`; consistent with the classifications determined above.\n",
    "\n",
    "[1] For this purpose we make the assumption that `VACANCY == 1` (For rent or sale) is for Rent, and `VACANCY ==2` (For sale only) is for sale in order to the simplify the analysis.\n",
    "\n",
    "[2] Note to self - verify that margin of error are additive"
   ],
   "id": "501bd41a-3f6f-4026-8523-8892ec9d3629"
  },
  {
   "cell_type": "code",
   "execution_count": null,
   "metadata": {},
   "outputs": [],
   "source": [
    "# calculate vacancy\n",
    "acs_vacancy <- acs_srvy |> \n",
    "  group_by(VACANCY, YEAR) |> \n",
    "  survey_count(VACANCY, name = \"vac\") |> \n",
    "  mutate(\n",
    "    vac_moe = vac_se *1.645,\n",
    "    tenure = case_when(\n",
    "      VACANCY == 1 ~ \"rent\",\n",
    "      VACANCY == 2 ~ \"own\"\n",
    "    )\n",
    "  ) |> \n",
    "    filter(!is.na(tenure)) |>\n",
    "  ungroup()\n",
    "\n",
    "# calculate occupied\n",
    "acs_occupancy <- acs_srvy |> \n",
    "  group_by(OWNERSHP, YEAR) |> \n",
    "  survey_count(OWNERSHP, name = \"occ\") |> \n",
    "  mutate(\n",
    "    occ_moe = occ_se *1.645,\n",
    "    tenure = case_when(\n",
    "      OWNERSHP == 1 ~ \"own\",\n",
    "      OWNERSHP == 2 ~ \"rent\"\n",
    "    )\n",
    "  )|> \n",
    "    filter(!is.na(tenure)) |> \n",
    "  ungroup()\n",
    "\n",
    "# calculate total occupied and total vacant\n",
    "acs_combined_ov <- acs_vacancy |> \n",
    "  select(YEAR, tenure, vac, vac_moe) |>\n",
    "  left_join(acs_occupancy |> \n",
    "              select(YEAR, tenure, occ, occ_moe), \n",
    "            by = c(\"YEAR\", \"tenure\")) %>% # old style pipe needs to be used to pipe . into bind_rows\n",
    "  bind_rows(\n",
    "    summarize(\n",
    "      .,\n",
    "    tenure = \"total\", \n",
    "    across(c(vac:occ_moe), sum),\n",
    "    .by = YEAR)\n",
    "    ) |> \n",
    "  mutate(\n",
    "    total = vac + occ,\n",
    "    vac_rate = vac/total\n",
    "  ) |> \n",
    "  group_by(tenure) |> \n",
    "  mutate(avg_vac_rate = mean(vac_rate)) |> \n",
    "  ungroup() |>\n",
    "  mutate(\n",
    "    diff_from_avg = avg_vac_rate - vac_rate,\n",
    "    shortfall = diff_from_avg * total)\n",
    "\n",
    "current_shortfall <- acs_combined_ov |> \n",
    "  filter(YEAR == 2023) |> \n",
    "  select(-YEAR) |> \n",
    "  mutate(tenure = str_to_title(tenure)) |> \n",
    "  gt() |> \n",
    "  fmt_number(c(vac:total, shortfall), decimals = 0) |> \n",
    "  fmt_percent(c(vac_rate:diff_from_avg)) |> \n",
    "  cols_label(\n",
    "    tenure = \"Tenure\", \n",
    "    vac = \"Vacant\", \n",
    "    vac_moe = \"Margin of Error\", \n",
    "    occ = \"Occupied\", \n",
    "    occ_moe = \"Margin of Error\", \n",
    "    total = \"Total\", \n",
    "    vac_rate = \"Vacancy Rate\", \n",
    "    avg_vac_rate = \"Average Vacancy Rate\", \n",
    "    diff_from_avg = \"Difference from Average\", \n",
    "    shortfall = \"Shortfall\"\n",
    "  ) |> \n",
    "    cols_align(\"center\")"
   ],
   "id": "220f1f5f-1dd7-4b82-819c-a4cc19e03ae2"
  },
  {
   "cell_type": "code",
   "execution_count": null,
   "metadata": {},
   "outputs": [
    {
     "output_type": "display_data",
     "metadata": {},
     "data": {
      "text/html": [
       "\n",
       "</div>"
      ],
      "text/markdown": [
       "  Tenure   Vacant   Margin of Error   Occupied    Margin of Error   Total       Vacancy Rate   Average Vacancy Rate   Difference from Average   Shortfall\n",
       "  -------- -------- ----------------- ----------- ----------------- ----------- -------------- ---------------------- ------------------------- -----------\n",
       "  Rent     41,901   5,192             835,314     22,166            877,215     4.78%          6.53%                  1.76%                     15,414\n",
       "  Own      12,816   2,753             1,592,949   24,524            1,605,765   0.80%          1.64%                  0.84%                     13,549\n",
       "  Total    54,717   7,945             2,428,263   46,690            2,482,980   2.20%          3.32%                  1.12%                     27,699\n"
      ]
     }
    }
   ],
   "source": [
    "current_shortfall\n",
    "# define get_shortfall function to return shortfall based on tenure and format data\n",
    "extract_shortfall <- function (ten_type) {\n",
    "  current_shortfall |> \n",
    "    fmt_number(\n",
    "      decimals = 1,\n",
    "      suffixing = \"K\") |> \n",
    "    extract_cells(shortfall, rows = tenure == ten_type)\n",
    "}"
   ],
   "id": "8d5fe5de-a1eb-4413-9e34-f02662090f42"
  },
  {
   "cell_type": "markdown",
   "metadata": {},
   "source": [
    "@tbl-nahb-shortfall contains the calculated shortfall for 2023 using the NAHB methodology. Using this methodology shortfalls of 15.4K units for rent and 13.5K units for ownership are determined, for a total shortfall of 27.7K[1].\n",
    "\n",
    "[1] Note: the Total shortfall is less than the sum of the own and vacant shortfalls due to differences in calculations"
   ],
   "id": "83bf0928-b172-4a87-a3e6-6206fa1f3e75"
  }
 ],
 "nbformat": 4,
 "nbformat_minor": 5,
 "metadata": {}
}
