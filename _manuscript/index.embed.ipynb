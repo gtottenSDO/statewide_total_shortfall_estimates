{
 "cells": [
  {
   "cell_type": "markdown",
   "metadata": {},
   "source": [
    "# Estimating Colorado’s Housing Shortfall\n",
    "\n",
    "Greg Totten (Colorado State Demography Office)"
   ],
   "id": "c07e3a7e-25d7-4c16-8c57-f5820896c46e"
  },
  {
   "cell_type": "code",
   "execution_count": null,
   "metadata": {},
   "outputs": [
    {
     "output_type": "stream",
     "name": "stderr",
     "text": [
      "── Attaching core tidyverse packages ──────────────────────── tidyverse 2.0.0 ──\n",
      "✔ dplyr     1.1.4     ✔ readr     2.1.5\n",
      "✔ forcats   1.0.0     ✔ stringr   1.5.1\n",
      "✔ ggplot2   3.5.1     ✔ tibble    3.2.1\n",
      "✔ lubridate 1.9.4     ✔ tidyr     1.3.1\n",
      "✔ purrr     1.0.4     \n",
      "── Conflicts ────────────────────────────────────────── tidyverse_conflicts() ──\n",
      "✖ dplyr::filter() masks stats::filter()\n",
      "✖ dplyr::lag()    masks stats::lag()\n",
      "ℹ Use the conflicted package (<http://conflicted.r-lib.org/>) to force all conflicts to become errors"
     ]
    },
    {
     "output_type": "stream",
     "name": "stderr",
     "text": [
      "The duckplyr package is configured to fall back to dplyr when it encounters an\n",
      "incompatibility. Fallback events can be collected and uploaded for analysis to\n",
      "guide future development. By default, data will be collected but no data will\n",
      "be uploaded.\n",
      "ℹ Automatic fallback uploading is not controlled and therefore disabled, see\n",
      "  `?duckplyr::fallback()`.\n",
      "✔ Number of reports ready for upload: 27.\n",
      "→ Review with `duckplyr::fallback_review()`, upload with\n",
      "  `duckplyr::fallback_upload()`.\n",
      "ℹ Configure automatic uploading with `duckplyr::fallback_config()`.\n",
      "✔ Overwriting dplyr methods with duckplyr methods.\n",
      "ℹ Turn off with `duckplyr::methods_restore()`."
     ]
    }
   ],
   "source": [
    "library(tidyverse)"
   ],
   "id": "a85be4fe-cee7-40fc-b6c2-cf4a274c16bb"
  },
  {
   "cell_type": "markdown",
   "metadata": {},
   "source": [
    "## Defining The Shortfall\n",
    "\n",
    "In order to estimate the total housing shortfall in Colorado, we must first define the metrics by which we are going to assess the number of housing units the state might be short.\n",
    "\n",
    "How these metrics are defined can have a significant impact on the resulting analysis. As a highly stylized example to demonstrate this concept let’s begin by using two examples to bound our estimates:\n",
    "\n",
    "1.  Every person currently residing in the state does so inside of a permanent housing unit. In this scenario we would have a relatively low estimate of the total number of necessary housing units - as what would be required is enough units to house the state’s unhoused population. In this case the estimate of number housing units might just be the estimate of the number of people in this population. However, this could be reduced by changing our requirements of housing to include any shelter - such as tents as vehicles, which would likely bring the estimated much lower.\n",
    "2.  Every current US resident who would like to live in Colorado may do so, and they will be able to do so for free. Conversely, in this scenario we might expect an estimate that is quite high, as while some people still may opt not to reside in our beautiful state (perhaps they do not particularly like sun), we could reasonably expect many Americans, perhaps into the hundreds of millions, might opt to spend no money to live in our beautiful state.\n",
    "\n",
    "In between these two estimates are a range of scenarios that might be indicative of the number of housing units which are necessary - based on the objectives we are trying to determine, and the underlying assumptions about housing preferences which underlie them. In this paper we will examine a variety of methods, based primarily on studies by other researchers, that we can apply to Colorado to determine the estimated housing shortfall in the state, under that method. In this way we will provide not so much a point estimate of the total housing shortfall, but a range of estimates which can be utilized by planners and policy makers based on their discretion with respect to the reasonableness and applicability of each method. In doing so we also hope to plan a clear, concise, explanation of the method, what objective it is attempting to solve for, and the meaning of the estimate within that context.\n",
    "\n",
    "## Data\n",
    "\n",
    "Data primarily comes from the most recent American Community Survey (“ACS”) one year estimates for Colorado, and data from the Colorado State Demography Office (“SDO”). One year ACS estimates are primarily used as the population of the state is large enough to allow for the use of such estimates. If applying similar methodologies at smaller geography levels (such as county level), it may be necessary to instead use 5 year estimates. Additionally, some methods of deriving estimates, such as by analyzing Public Use Microdata Sample (“PUMS”) data may not be possible for all methods. As such many methods determined here may only be applicable at the state level.\n",
    "\n",
    "## Examples\n",
    "\n",
    "### Harvard Joint Center for Housing Studies Blog\n",
    "\n",
    "One resource that compares four relatively recent national studies attempting to determine housing shortfalls are a January 2024 blog entry from the Harvard Joint Center for Housing Studies (“JHCS”) \\[@mccue2024\\]. The four studies each utilize different methodologies and resulting estimates covering different years. The four studies are:\n",
    "\n",
    "1.  [National Association of Home Builders (NAHB) 2021](https://www.freddiemac.com/research/insight/20210507-housing-supply)\n",
    "2.  [Freddie Mac 2020](https://www.freddiemac.com/research/insight/20210507-housing-supply)\n",
    "3.  [National Association of Realtors (NAR) 2021](https://www.nar.realtor/advocacy/housing-is-critical-infrastructure)\n",
    "4.  [National Low Income Housing Coalition (NLIHC)](https://nlihc.org/gap)\n",
    "\n",
    "The following sections will provide estimates of the housing shortage in Colorado based on each of these study methodologies.\n",
    "\n",
    "### National Association of Home Builders\n",
    "\n",
    "The NAHB study estimates the national housing shortage by examining the difference in ACS vacancy rates in the current year from their long run average. This resulted in an estimated shortage of 1.5 million units.\n",
    "\n",
    "The first step is to create a time series of vacancy rates for the state with ACS data. This data is accessed from the IPUMS USA database \\[@ruggles2024a\\] using the `ipumsr` package in R \\[@ipumsr\\]."
   ],
   "id": "e3a1d058-b77c-4e39-9d36-4beadda67530"
  },
  {
   "cell_type": "code",
   "execution_count": null,
   "metadata": {},
   "outputs": [
    {
     "output_type": "stream",
     "name": "stderr",
     "text": [
      "Use of data from IPUMS USA is subject to conditions including that users should cite the data appropriately. Use command `ipums_conditions()` for more details."
     ]
    }
   ],
   "source": [
    "acs_samples <- get_sample_info(\"usa\") |>\n",
    "  filter(str_detect(name, pattern = \"us20d{2}a\")) |>\n",
    "  pull(name)\n",
    "\n",
    "ipums_dir <- \"data/ipums_raw/\"\n",
    "ipums_ddi <- \"usa_00075.xml\"\n",
    "file_loc <- paste0(\n",
    "  ipums_dir,\n",
    "  ipums_ddi\n",
    ")\n",
    "  if (file.exists(file_loc)) {\n",
    "    acs_ddi <- read_ipums_ddi(file_loc)\n",
    "    acs_00_23 <- acs_ddi |>\n",
    "      read_ipums_micro()\n",
    "  } else {\n",
    "acs_00_23 <- define_extract_micro(\n",
    "      collection = \"usa\",\n",
    "      description = \"ACS 1 year samples in Colorado of vacancy variables\",\n",
    "      samples = acs_samples,\n",
    "      variables = list(\n",
    "        var_spec(\"STATEFIP\", case_selections = \"08\"),\n",
    "        \"COUNTYFIP\",\n",
    "        \"PUMA\",\n",
    "        \"GQ\",\n",
    "        \"OWNERSHP\",\n",
    "        \"VACANCY\"\n",
    "      ),\n",
    "      data_structure = \"household_only\"\n",
    "    ) |>\n",
    "      submit_extract() |>\n",
    "      wait_for_extract() |>\n",
    "      download_extract(download_dir = ipums_dir) |>\n",
    "      read_ipums_micro()\n",
    "  }"
   ],
   "id": "a1310f54-f53d-4537-bd57-2f2d07c3c8d3"
  },
  {
   "cell_type": "markdown",
   "metadata": {},
   "source": [
    "Vacancy rates are calculated based on both the `OWNERSHP` and `VACANCY` variables. Additionally the `GQ` variable is used to filter out group quarters."
   ],
   "id": "6be7ef8c-72c6-45fa-b002-87dae8a4c24c"
  },
  {
   "cell_type": "code",
   "execution_count": null,
   "metadata": {},
   "outputs": [
    {
     "output_type": "display_data",
     "metadata": {},
     "data": {
      "text/html": [
       "\n",
       "</div>"
      ],
      "text/markdown": [
       "  GQ                                              OWNERSHP                         VACANCY\n",
       "  ----------------------------------------------- -------------------------------- ------------------------------------------------------\n",
       "  0_Vacant unit                                   0_N/A                            0_N/A\n",
       "  1_Households under 1970 definition              1_Owned or being bought (loan)   1_For rent or sale\n",
       "  2_Additional households under 1990 definition   2_Rented                         2_For sale only\n",
       "  3_Group quarters\\--Institutions                 NA                               3_Rented or sold but not (yet) occupied\n",
       "  4_Other group quarters                          NA                               4_For seasonal, recreational or other occasional use\n",
       "  5_Additional households under 2000 definition   NA                               5_For occasional use\n",
       "  6_Fragment                                      NA                               6_For seasonal use\n",
       "  NA                                              NA                               7_For migrant farm workers\n",
       "  NA                                              NA                               8_For seasonal use or migratory\n",
       "  NA                                              NA                               9_Other vacant\n"
      ]
     }
    }
   ],
   "source": [
    "acs_info <- ipums_var_info(acs_ddi)\n",
    "\n",
    "own_tbl <- acs_info %>% \n",
    "  filter(var_name %in% c('OWNERSHP', 'VACANCY', \"GQ\")) %>% \n",
    "  select(var_name, val_labels) %>% \n",
    "  unnest(val_labels) %>% \n",
    "  unite(val_lbl, c(val,lbl), sep=\"_\") %>% \n",
    "  group_by(var_name) %>%\n",
    "  mutate(row = row_number()) %>%\n",
    "  pivot_wider(names_from = var_name,\n",
    "              values_from = val_lbl) %>%\n",
    "  select(-row)\n",
    "\n",
    "own_tbl_gt <- own_tbl %>%\n",
    "  gt()\n",
    "\n",
    "own_tbl_gt"
   ],
   "id": "8da81d56-bd31-4d9b-bd05-5222ccb2141b"
  },
  {
   "cell_type": "code",
   "execution_count": null,
   "metadata": {
    "execute": false
   },
   "outputs": [
    {
     "output_type": "stream",
     "name": "stdout",
     "text": [
      "# A tibble: 3 × 2\n",
      "  OWNERSHP                              n\n",
      "  <int+lbl>                         <int>\n",
      "1 0 [N/A]                           82030\n",
      "2 1 [Owned or being bought (loan)] 369311\n",
      "3 2 [Rented]                       143978"
     ]
    }
   ],
   "source": [
    "acs_00_23 |> count(OWNERSHP)"
   ],
   "id": "944d4191-2f9e-4ae2-9312-50b4f094ef6c"
  }
 ],
 "nbformat": 4,
 "nbformat_minor": 5,
 "metadata": {}
}
