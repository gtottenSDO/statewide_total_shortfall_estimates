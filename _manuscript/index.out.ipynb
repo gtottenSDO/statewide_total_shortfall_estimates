{
 "cells": [
  {
   "cell_type": "markdown",
   "metadata": {},
   "source": [
    "# Estimating Colorado’s Housing Shortfall\n",
    "\n",
    "Greg Totten (Colorado State Demography Office)"
   ],
   "id": "4800ab43-e06f-4f12-a2e1-684505e978e4"
  },
  {
   "cell_type": "code",
   "execution_count": null,
   "metadata": {},
   "outputs": [
    {
     "output_type": "stream",
     "name": "stderr",
     "text": [
      "── Attaching core tidyverse packages ──────────────────────── tidyverse 2.0.0 ──\n",
      "✔ dplyr     1.1.4     ✔ readr     2.1.5\n",
      "✔ forcats   1.0.0     ✔ stringr   1.5.1\n",
      "✔ ggplot2   3.5.1     ✔ tibble    3.2.1\n",
      "✔ lubridate 1.9.4     ✔ tidyr     1.3.1\n",
      "✔ purrr     1.0.4     \n",
      "── Conflicts ────────────────────────────────────────── tidyverse_conflicts() ──\n",
      "✖ dplyr::filter() masks stats::filter()\n",
      "✖ dplyr::lag()    masks stats::lag()\n",
      "ℹ Use the conflicted package (<http://conflicted.r-lib.org/>) to force all conflicts to become errors"
     ]
    },
    {
     "output_type": "stream",
     "name": "stderr",
     "text": [
      "The duckplyr package is configured to fall back to dplyr when it encounters an\n",
      "incompatibility. Fallback events can be collected and uploaded for analysis to\n",
      "guide future development. By default, data will be collected but no data will\n",
      "be uploaded.\n",
      "ℹ Automatic fallback uploading is not controlled and therefore disabled, see\n",
      "  `?duckplyr::fallback()`.\n",
      "✔ Number of reports ready for upload: 27.\n",
      "→ Review with `duckplyr::fallback_review()`, upload with\n",
      "  `duckplyr::fallback_upload()`.\n",
      "ℹ Configure automatic uploading with `duckplyr::fallback_config()`.\n",
      "✔ Overwriting dplyr methods with duckplyr methods.\n",
      "ℹ Turn off with `duckplyr::methods_restore()`."
     ]
    }
   ],
   "source": [
    "library(tidyverse)"
   ],
   "id": "0e1abe3d-bc23-4664-b4ea-95c8e1ab0716"
  },
  {
   "cell_type": "markdown",
   "metadata": {},
   "source": [
    "## Defining The Shortfall\n",
    "\n",
    "In order to estimate the total housing shortfall in Colorado, we must first define the metrics by which we are going to assess the number of housing units the state might be short.\n",
    "\n",
    "How these metrics are defined can have a significant impact on the resulting analysis. As a highly stylized example to demonstrate this concept let’s begin by using two examples to bound our estimates:\n",
    "\n",
    "1.  Every person currently residing in the state does so inside of a permanent housing unit. In this scenario we would have a relatively low estimate of the total number of necessary housing units - as what would be required is enough units to house the state’s unhoused population. In this case the estimate of number housing units might just be the estimate of the number of people in this population. However, this could be reduced by changing our requirements of housing to include any shelter - such as tents as vehicles, which would likely bring the estimated much lower.\n",
    "2.  Every current US resident who would like to live in Colorado may do so, and they will be able to do so for free. Conversely, in this scenario we might expect an estimate that is quite high, as while some people still may opt not to reside in our beautiful state (perhaps they do not particularly like sun), we could reasonably expect many Americans, perhaps into the hundreds of millions, might opt to spend no money to live in our beautiful state.\n",
    "\n",
    "In between these two estimates are a range of scenarios that might be indicative of the number of housing units which are necessary - based on the objectives we are trying to determine, and the underlying assumptions about housing preferences which underlie them. In this paper we will examine a variety of methods, based primarily on studies by other researchers, that we can apply to Colorado to determine the estimated housing shortfall in the state, under that method. In this way we will provide not so much a point estimate of the total housing shortfall, but a range of estimates which can be utilized by planners and policy makers based on their discretion with respect to the reasonableness and applicability of each method. In doing so we also hope to plan a clear, concise, explanation of the method, what objective it is attempting to solve for, and the meaning of the estimate within that context.\n",
    "\n",
    "## Data\n",
    "\n",
    "Data primarily comes from the most recent American Community Survey (“ACS”) one year estimates for Colorado, and data from the Colorado State Demography Office (“SDO”). One year ACS estimates are primarily used as the population of the state is large enough to allow for the use of such estimates. If applying similar methodologies at smaller geography levels (such as county level), it may be necessary to instead use 5 year estimates. Additionally, some methods of deriving estimates, such as by analyzing Public Use Microdata Sample (“PUMS”) data may not be possible for all methods. As such many methods determined here may only be applicable at the state level.\n",
    "\n",
    "## Examples\n",
    "\n",
    "### Harvard Joint Center for Housing Studies Blog\n",
    "\n",
    "One resource that compares four relatively recent national studies attempting to determine housing shortfalls are a January 2024 blog entry from the Harvard Joint Center for Housing Studies (“JHCS”) ([McCue and Huang 2024](#ref-mccue2024)). The four studies each utilize different methodologies and resulting estimates covering different years. The four studies are:\n",
    "\n",
    "1.  [National Association of Home Builders (NAHB) 2021](https://www.freddiemac.com/research/insight/20210507-housing-supply)\n",
    "2.  [Freddie Mac 2020](https://www.freddiemac.com/research/insight/20210507-housing-supply)\n",
    "3.  [National Association of Realtors (NAR) 2021](https://www.nar.realtor/advocacy/housing-is-critical-infrastructure)\n",
    "4.  [National Low Income Housing Coalition (NLIHC)](https://nlihc.org/gap)\n",
    "\n",
    "The following sections will provide estimates of the housing shortage in Colorado based on each of these study methodologies.\n",
    "\n",
    "### National Association of Home Builders\n",
    "\n",
    "The NAHB study estimates the national housing shortage by examining the difference in ACS vacancy rates in the current year from their long run average. This resulted in an estimated shortage of 1.5 million units.\n",
    "\n",
    "The first step is to create a time series of vacancy rates for the state with ACS data. This data is accessed from the IPUMS USA database ([Ruggles et al. 2024](#ref-ruggles2024a)) using the `ipumsr` package in R ([Greg Freedman Ellis, Derek Burk, and Finn Roberts 2024](#ref-ipumsr))."
   ],
   "id": "34d99912-f74a-48bf-9bd4-66551ac33bb1"
  },
  {
   "cell_type": "code",
   "execution_count": null,
   "metadata": {},
   "outputs": [
    {
     "output_type": "stream",
     "name": "stderr",
     "text": [
      "Use of data from IPUMS USA is subject to conditions including that users should cite the data appropriately. Use command `ipums_conditions()` for more details."
     ]
    }
   ],
   "source": [
    "acs_samples <- get_sample_info(\"usa\") |>\n",
    "  filter(str_detect(name, pattern = \"us20d{2}a\")) |>\n",
    "  pull(name)\n",
    "\n",
    "ipums_dir <- \"data/ipums_raw/\"\n",
    "ipums_ddi <- \"usa_00075.xml\"\n",
    "file_loc <- paste0(\n",
    "  ipums_dir,\n",
    "  ipums_ddi\n",
    ")\n",
    "  if (file.exists(file_loc)) {\n",
    "    acs_ddi <- read_ipums_ddi(file_loc)\n",
    "    acs_00_23 <- acs_ddi |>\n",
    "      read_ipums_micro()\n",
    "  } else {\n",
    "acs_00_23 <- define_extract_micro(\n",
    "      collection = \"usa\",\n",
    "      description = \"ACS 1 year samples in Colorado of vacancy variables\",\n",
    "      samples = acs_samples,\n",
    "      variables = list(\n",
    "        var_spec(\"STATEFIP\", case_selections = \"08\"),\n",
    "        \"COUNTYFIP\",\n",
    "        \"PUMA\",\n",
    "        \"GQ\",\n",
    "        \"OWNERSHP\",\n",
    "        \"VACANCY\"\n",
    "      ),\n",
    "      data_structure = \"household_only\"\n",
    "    ) |>\n",
    "      submit_extract() |>\n",
    "      wait_for_extract() |>\n",
    "      download_extract(download_dir = ipums_dir) |>\n",
    "      read_ipums_micro()\n",
    "  }"
   ],
   "id": "d2e48585-01c2-4744-8870-08f5bec4d44b"
  },
  {
   "cell_type": "markdown",
   "metadata": {},
   "source": [
    "Vacancy rates are calculated based on both the `OWNERSHP` and `VACANCY` variables. Additionally the `GQ` variable is used to filter out group quarters."
   ],
   "id": "dd2d4ed7-18ee-430c-b98e-29b9ad3bfb44"
  },
  {
   "cell_type": "code",
   "execution_count": null,
   "metadata": {},
   "outputs": [
    {
     "output_type": "display_data",
     "metadata": {},
     "data": {
      "text/html": [
       "\n",
       "</div>"
      ]
     }
    }
   ],
   "source": [
    "acs_info <- ipums_var_info(acs_ddi)\n",
    "\n",
    "own_tbl <- acs_info %>% \n",
    "  filter(var_name %in% c('OWNERSHP', 'VACANCY', \"GQ\")) %>% \n",
    "  select(var_name, val_labels) %>% \n",
    "  unnest(val_labels) %>% \n",
    "  unite(val_lbl, c(val,lbl), sep=\"_\") %>% \n",
    "  group_by(var_name) %>%\n",
    "  mutate(row = row_number()) %>%\n",
    "  pivot_wider(names_from = var_name,\n",
    "              values_from = val_lbl) %>%\n",
    "  select(-row)\n",
    "\n",
    "own_tbl_gt <- own_tbl %>%\n",
    "  gt()\n",
    "\n",
    "own_tbl_gt"
   ],
   "id": "b04eb561-9bde-463b-bdc1-b376f024521a"
  },
  {
   "cell_type": "code",
   "execution_count": null,
   "metadata": {
    "execute": false
   },
   "outputs": [
    {
     "output_type": "stream",
     "name": "stdout",
     "text": [
      "# A tibble: 3 × 2\n",
      "  OWNERSHP                              n\n",
      "  <int+lbl>                         <int>\n",
      "1 0 [N/A]                           82030\n",
      "2 1 [Owned or being bought (loan)] 369311\n",
      "3 2 [Rented]                       143978"
     ]
    }
   ],
   "source": [
    "acs_00_23 |> count(OWNERSHP)"
   ],
   "id": "c82d00fe-774e-4dec-8792-30d93cb77a91"
  },
  {
   "cell_type": "markdown",
   "metadata": {},
   "source": [
    "Greg Freedman Ellis, Derek Burk, and Finn Roberts. 2024. *Ipumsr: An r Interface for Downloading, Reading, and Handling IPUMS Data*. <https://tech.popdata.org/ipumsr/>.\n",
    "\n",
    "McCue, Daniel;, and Sophie Huang. 2024. “Estimating the National Housing Shortfall \\| Joint Center for Housing Studies.” <https://www.jchs.harvard.edu/blog/estimating-national-housing-shortfall>.\n",
    "\n",
    "Ruggles, Steven, Sarah Flood, Matthew Sobek, Daniel Backman, Annie Chen, Grace Cooper, Stephanie Richards, Renae Rodgers, and Megan Schouweiler. 2024. “IPUMS USA: Version 15.0.” Minneapolis, MN: IPUMS. <https://doi.org/10.18128/D010.V15.0>."
   ],
   "id": "48869f7f-3081-4eba-931c-c7f308b1b7c0"
  }
 ],
 "nbformat": 4,
 "nbformat_minor": 5,
 "metadata": {}
}
